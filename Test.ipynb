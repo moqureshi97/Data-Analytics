{
 "cells": [
  {
   "cell_type": "code",
   "execution_count": null,
   "metadata": {},
   "outputs": [],
   "source": [
    "SELECT SUM(totals.pageviews) AS TotalPageviews\n",
    "FROM 'bigquery-public-data.google_analytics_sample.ga_sessions_20170101'"
   ]
  }
 ],
 "metadata": {
  "language_info": {
   "name": "plaintext"
  },
  "orig_nbformat": 4
 },
 "nbformat": 4,
 "nbformat_minor": 2
}
